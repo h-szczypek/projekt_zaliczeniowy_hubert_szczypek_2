{
  "nbformat": 4,
  "nbformat_minor": 0,
  "metadata": {
    "colab": {
      "name": "projekt_zaliczeniowy_hubert_szczypek_2.ipynb",
      "provenance": [],
      "collapsed_sections": []
    },
    "kernelspec": {
      "name": "python3",
      "display_name": "Python 3"
    },
    "language_info": {
      "name": "python"
    }
  },
  "cells": [
    {
      "cell_type": "code",
      "source": [
        "import numpy as np\n",
        "import pandas as pd\n",
        "import re\n",
        "print (\"ZAIMPORTOWANO\")\n",
        "df = pd.read_csv(\"/content/covid-tt2.csv\")\n",
        "print(\"ZAŁADOWANO CSV, CSV = DF\")\n",
        "df['created_at']"
      ],
      "metadata": {
        "colab": {
          "base_uri": "https://localhost:8080/"
        },
        "id": "nySPYPfh72MG",
        "outputId": "87e1f3c9-810f-4fcc-8440-994339b20c00"
      },
      "execution_count": 4,
      "outputs": [
        {
          "output_type": "stream",
          "name": "stdout",
          "text": [
            "ZAIMPORTOWANO\n",
            "ZAŁADOWANO CSV, CSV = DF\n"
          ]
        },
        {
          "output_type": "execute_result",
          "data": {
            "text/plain": [
              "0      Wed Jul 28 09:31:07 +0000 2021\n",
              "1      Wed Jul 28 10:43:40 +0000 2021\n",
              "2      Wed Jul 28 09:49:44 +0000 2021\n",
              "3      Wed Jul 28 09:12:57 +0000 2021\n",
              "4      Wed Jul 28 08:59:45 +0000 2021\n",
              "                    ...              \n",
              "315    Wed Jul 28 04:38:55 +0000 2021\n",
              "316    Wed Jul 28 04:28:03 +0000 2021\n",
              "317    Wed Jul 28 04:45:00 +0000 2021\n",
              "318    Wed Jul 28 04:48:24 +0000 2021\n",
              "319    Wed Jul 28 05:03:48 +0000 2021\n",
              "Name: created_at, Length: 320, dtype: object"
            ]
          },
          "metadata": {},
          "execution_count": 4
        }
      ]
    },
    {
      "cell_type": "code",
      "source": [
        "#zadanie 1.1.\n",
        "\n",
        "x = 0\n",
        "column_name = \"\"\n",
        "def dayname_pl(x,column_name):\n",
        "  while x < 319 :\n",
        "    x = x+1\n",
        "    if df[column_name][x].find(\"Mon\") != -1 : # find zwraca indeks znalezienia stringa, != -1 znaczy, że znalazł\n",
        "      df[column_name][x] = df[column_name][x].replace(\"Mon\", \"Poniedziałek\") \n",
        "    elif df[column_name][x].find(\"Tue\") != -1  : \n",
        "      df[column_name][x] = df[column_name][x].replace(\"Tue\", \"Wtorek\")\n",
        "    elif df[column_name][x].find(\"Wed\") != -1 : \n",
        "      df[column_name][x] = df[column_name][x].replace(\"Wed\", \"Środa\")\n",
        "    elif df[column_name][x].find(\"Thu\") != -1 : \n",
        "      df[column_name][x] = df[column_name][x].replace(\"Thu\", \"Czwartek\")\n",
        "    elif df[column_name][x].find(\"Fri\") != -1 : \n",
        "      df[column_name][x] = df[column_name][x].replace(\"Fri\", \"Piątek\")\n",
        "    elif df[column_name][x].find(\"Sat\") != -1 : \n",
        "      df[column_name][x] = df[column_name][x].replace(\"Sat\", \"Sobota\")\n",
        "    elif df[column_name][x].find(\"Sun\") != -1 : \n",
        "      df[column_name][x] = df[column_name][x].replace(\"Sun\", \"Niedziela\")\n",
        "\n",
        "print(x)\n",
        "df[\"created_at\"]"
      ],
      "metadata": {
        "id": "9HqD2Y3DRNmz"
      },
      "execution_count": null,
      "outputs": []
    },
    {
      "cell_type": "code",
      "source": [
        "dayname_pl(-1,\"created_at\")\n",
        "df[\"created_at\"]"
      ],
      "metadata": {
        "id": "F1NlSeMk8Js5"
      },
      "execution_count": null,
      "outputs": []
    },
    {
      "cell_type": "code",
      "source": [
        "#zadanie 1.2.\n",
        "\n",
        "x = -1\n",
        "\n",
        "while x < 319 :\n",
        "  x = x+1\n",
        "  if df[\"created_at\"][x].find(\"Jan\") != -1 : \n",
        "    df[\"created_at\"][x] = df[\"created_at\"][x].replace(\"Jan\", \"01\") \n",
        "  elif df[\"created_at\"][x].find(\"Feb\") != -1  : \n",
        "    df[\"created_at\"][x] = df[\"created_at\"][x].replace(\"Feb\", \"02\")\n",
        "  elif df[\"created_at\"][x].find(\"Mar\") != -1 : \n",
        "    df[\"created_at\"][x] = df[\"created_at\"][x].replace(\"Mar\", \"03\")\n",
        "  elif df[\"created_at\"][x].find(\"Apr\") != -1 : \n",
        "    df[\"created_at\"][x] = df[\"created_at\"][x].replace(\"Apr\", \"04\")\n",
        "  elif df[\"created_at\"][x].find(\"May\") != -1 : \n",
        "    df[\"created_at\"][x] = df[\"created_at\"][x].replace(\"May\", \"05\")\n",
        "  elif df[\"created_at\"][x].find(\"Jun\") != -1 : \n",
        "    df[\"created_at\"][x] = df[\"created_at\"][x].replace(\"Jun\", \"06\")\n",
        "  elif df[\"created_at\"][x].find(\"Jul\") != -1 : \n",
        "    df[\"created_at\"][x] = df[\"created_at\"][x].replace(\"Jul\", \"07\")\n",
        "  elif df[\"created_at\"][x].find(\"Aug\") != -1 : \n",
        "    df[\"created_at\"][x] = df[\"created_at\"][x].replace(\"Aug\", \"08\")\n",
        "  elif df[\"created_at\"][x].find(\"Sept\") != -1 : \n",
        "    df[\"created_at\"][x] = df[\"created_at\"][x].replace(\"Sept\", \"09\")\n",
        "  elif df[\"created_at\"][x].find(\"Oct\") != -1 : \n",
        "    df[\"created_at\"][x] = df[\"created_at\"][x].replace(\"Oct\", \"10\")\n",
        "  elif df[\"created_at\"][x].find(\"Nov\") != -1 : \n",
        "    df[\"created_at\"][x] = df[\"created_at\"][x].replace(\"Nov\", \"11\")\n",
        "  elif df[\"created_at\"][x].find(\"Dec\") != -1 : \n",
        "    df[\"created_at\"][x] = df[\"created_at\"][x].replace(\"Dec\", \"12\")\n",
        "  else: \n",
        "    print(\"nie hello\")\n",
        "\n",
        "print(x)\n",
        "df[\"created_at\"]"
      ],
      "metadata": {
        "id": "q4tBG40BOaLm"
      },
      "execution_count": null,
      "outputs": []
    },
    {
      "cell_type": "code",
      "source": [
        "# zadanie 1.3\n",
        "\n",
        "lista_tweety = []\n",
        "x = 0\n",
        "\n",
        "while x < 320:\n",
        "  temp = df[\"tweet_url\"][x]\n",
        "  x = x + 1\n",
        "  lista_tweety.append(temp)\n",
        "  # print(x,temp)\n",
        "lista_tweety"
      ],
      "metadata": {
        "id": "xr6kyIRBRJFX"
      },
      "execution_count": null,
      "outputs": []
    },
    {
      "cell_type": "code",
      "source": [
        "df = pd.read_csv(\"/content/covid-tt2.csv\")\n",
        "df[\"urls\"]"
      ],
      "metadata": {
        "id": "6Uw1OGGGRUjT"
      },
      "execution_count": null,
      "outputs": []
    },
    {
      "cell_type": "code",
      "source": [
        "# zadanie 1.4.\n",
        "\n",
        "x = 0\n",
        "lista_urls = []\n",
        "while x < 320 :\n",
        "  if type(df[\"urls\"][x]) != float : # wykluczam pobieranie do listy pustych komórek\n",
        "    temp = df[\"urls\"][x]\n",
        "    lista_urls.append(temp)\n",
        "  x = x + 1\n",
        "lista_urls"
      ],
      "metadata": {
        "id": "quB-Ss7wRl9M"
      },
      "execution_count": null,
      "outputs": []
    },
    {
      "cell_type": "code",
      "source": [
        "# zadanie 1.5\n",
        "x = 0\n",
        "lista_media = []\n",
        "while x < 320 :\n",
        "  if type(df[\"media\"][x]) != float :\n",
        "    temp = df[\"media\"][x]\n",
        "    lista_media.append(temp)\n",
        "  x = x + 1\n",
        "lista_media"
      ],
      "metadata": {
        "id": "XXZRJel1SJDC"
      },
      "execution_count": null,
      "outputs": []
    },
    {
      "cell_type": "code",
      "source": [
        "!pip install spacy -U\n",
        "!python -m spacy download pl_core_news_sm\n",
        "#RESTART ŚRODOWISKA\n",
        "#PONOWNIE ZAŁADOWAĆ PAKIETY I PLIK CSV - POCZĄTEK KODU"
      ],
      "metadata": {
        "colab": {
          "base_uri": "https://localhost:8080/"
        },
        "id": "K_pxfaa8XWnS",
        "outputId": "c7dd41be-04a8-4173-d353-4db6a56d52ec"
      },
      "execution_count": 17,
      "outputs": [
        {
          "output_type": "stream",
          "name": "stdout",
          "text": [
            "Requirement already satisfied: spacy in /usr/local/lib/python3.7/dist-packages (2.2.4)\n",
            "Collecting spacy\n",
            "  Downloading spacy-3.2.1-cp37-cp37m-manylinux_2_17_x86_64.manylinux2014_x86_64.whl (6.0 MB)\n",
            "\u001b[K     |████████████████████████████████| 6.0 MB 28.2 MB/s \n",
            "\u001b[?25hCollecting thinc<8.1.0,>=8.0.12\n",
            "  Downloading thinc-8.0.13-cp37-cp37m-manylinux_2_17_x86_64.manylinux2014_x86_64.whl (628 kB)\n",
            "\u001b[K     |████████████████████████████████| 628 kB 55.6 MB/s \n",
            "\u001b[?25hCollecting pydantic!=1.8,!=1.8.1,<1.9.0,>=1.7.4\n",
            "  Downloading pydantic-1.8.2-cp37-cp37m-manylinux2014_x86_64.whl (10.1 MB)\n",
            "\u001b[K     |████████████████████████████████| 10.1 MB 47.0 MB/s \n",
            "\u001b[?25hRequirement already satisfied: setuptools in /usr/local/lib/python3.7/dist-packages (from spacy) (57.4.0)\n",
            "Collecting srsly<3.0.0,>=2.4.1\n",
            "  Downloading srsly-2.4.2-cp37-cp37m-manylinux_2_17_x86_64.manylinux2014_x86_64.whl (451 kB)\n",
            "\u001b[K     |████████████████████████████████| 451 kB 64.3 MB/s \n",
            "\u001b[?25hRequirement already satisfied: preshed<3.1.0,>=3.0.2 in /usr/local/lib/python3.7/dist-packages (from spacy) (3.0.6)\n",
            "Collecting langcodes<4.0.0,>=3.2.0\n",
            "  Downloading langcodes-3.3.0-py3-none-any.whl (181 kB)\n",
            "\u001b[K     |████████████████████████████████| 181 kB 57.3 MB/s \n",
            "\u001b[?25hRequirement already satisfied: tqdm<5.0.0,>=4.38.0 in /usr/local/lib/python3.7/dist-packages (from spacy) (4.62.3)\n",
            "Requirement already satisfied: murmurhash<1.1.0,>=0.28.0 in /usr/local/lib/python3.7/dist-packages (from spacy) (1.0.6)\n",
            "Requirement already satisfied: requests<3.0.0,>=2.13.0 in /usr/local/lib/python3.7/dist-packages (from spacy) (2.23.0)\n",
            "Collecting pathy>=0.3.5\n",
            "  Downloading pathy-0.6.1-py3-none-any.whl (42 kB)\n",
            "\u001b[K     |████████████████████████████████| 42 kB 1.4 MB/s \n",
            "\u001b[?25hRequirement already satisfied: wasabi<1.1.0,>=0.8.1 in /usr/local/lib/python3.7/dist-packages (from spacy) (0.9.0)\n",
            "Collecting spacy-loggers<2.0.0,>=1.0.0\n",
            "  Downloading spacy_loggers-1.0.1-py3-none-any.whl (7.0 kB)\n",
            "Collecting typer<0.5.0,>=0.3.0\n",
            "  Downloading typer-0.4.0-py3-none-any.whl (27 kB)\n",
            "Requirement already satisfied: numpy>=1.15.0 in /usr/local/lib/python3.7/dist-packages (from spacy) (1.19.5)\n",
            "Requirement already satisfied: jinja2 in /usr/local/lib/python3.7/dist-packages (from spacy) (2.11.3)\n",
            "Requirement already satisfied: blis<0.8.0,>=0.4.0 in /usr/local/lib/python3.7/dist-packages (from spacy) (0.4.1)\n",
            "Collecting spacy-legacy<3.1.0,>=3.0.8\n",
            "  Downloading spacy_legacy-3.0.8-py2.py3-none-any.whl (14 kB)\n",
            "Requirement already satisfied: packaging>=20.0 in /usr/local/lib/python3.7/dist-packages (from spacy) (21.3)\n",
            "Requirement already satisfied: typing-extensions<4.0.0.0,>=3.7.4 in /usr/local/lib/python3.7/dist-packages (from spacy) (3.10.0.2)\n",
            "Collecting catalogue<2.1.0,>=2.0.6\n",
            "  Downloading catalogue-2.0.6-py3-none-any.whl (17 kB)\n",
            "Requirement already satisfied: cymem<2.1.0,>=2.0.2 in /usr/local/lib/python3.7/dist-packages (from spacy) (2.0.6)\n",
            "Requirement already satisfied: zipp>=0.5 in /usr/local/lib/python3.7/dist-packages (from catalogue<2.1.0,>=2.0.6->spacy) (3.7.0)\n",
            "Requirement already satisfied: pyparsing!=3.0.5,>=2.0.2 in /usr/local/lib/python3.7/dist-packages (from packaging>=20.0->spacy) (3.0.7)\n",
            "Requirement already satisfied: smart-open<6.0.0,>=5.0.0 in /usr/local/lib/python3.7/dist-packages (from pathy>=0.3.5->spacy) (5.2.1)\n",
            "Requirement already satisfied: urllib3!=1.25.0,!=1.25.1,<1.26,>=1.21.1 in /usr/local/lib/python3.7/dist-packages (from requests<3.0.0,>=2.13.0->spacy) (1.24.3)\n",
            "Requirement already satisfied: chardet<4,>=3.0.2 in /usr/local/lib/python3.7/dist-packages (from requests<3.0.0,>=2.13.0->spacy) (3.0.4)\n",
            "Requirement already satisfied: idna<3,>=2.5 in /usr/local/lib/python3.7/dist-packages (from requests<3.0.0,>=2.13.0->spacy) (2.10)\n",
            "Requirement already satisfied: certifi>=2017.4.17 in /usr/local/lib/python3.7/dist-packages (from requests<3.0.0,>=2.13.0->spacy) (2021.10.8)\n",
            "Requirement already satisfied: click<9.0.0,>=7.1.1 in /usr/local/lib/python3.7/dist-packages (from typer<0.5.0,>=0.3.0->spacy) (7.1.2)\n",
            "Requirement already satisfied: MarkupSafe>=0.23 in /usr/local/lib/python3.7/dist-packages (from jinja2->spacy) (2.0.1)\n",
            "Installing collected packages: catalogue, typer, srsly, pydantic, thinc, spacy-loggers, spacy-legacy, pathy, langcodes, spacy\n",
            "  Attempting uninstall: catalogue\n",
            "    Found existing installation: catalogue 1.0.0\n",
            "    Uninstalling catalogue-1.0.0:\n",
            "      Successfully uninstalled catalogue-1.0.0\n",
            "  Attempting uninstall: srsly\n",
            "    Found existing installation: srsly 1.0.5\n",
            "    Uninstalling srsly-1.0.5:\n",
            "      Successfully uninstalled srsly-1.0.5\n",
            "  Attempting uninstall: thinc\n",
            "    Found existing installation: thinc 7.4.0\n",
            "    Uninstalling thinc-7.4.0:\n",
            "      Successfully uninstalled thinc-7.4.0\n",
            "  Attempting uninstall: spacy\n",
            "    Found existing installation: spacy 2.2.4\n",
            "    Uninstalling spacy-2.2.4:\n",
            "      Successfully uninstalled spacy-2.2.4\n",
            "Successfully installed catalogue-2.0.6 langcodes-3.3.0 pathy-0.6.1 pydantic-1.8.2 spacy-3.2.1 spacy-legacy-3.0.8 spacy-loggers-1.0.1 srsly-2.4.2 thinc-8.0.13 typer-0.4.0\n",
            "Collecting pl-core-news-sm==3.2.0\n",
            "  Downloading https://github.com/explosion/spacy-models/releases/download/pl_core_news_sm-3.2.0/pl_core_news_sm-3.2.0-py3-none-any.whl (58.6 MB)\n",
            "\u001b[K     |████████████████████████████████| 58.6 MB 1.2 MB/s \n",
            "\u001b[?25hRequirement already satisfied: spacy<3.3.0,>=3.2.0 in /usr/local/lib/python3.7/dist-packages (from pl-core-news-sm==3.2.0) (3.2.1)\n",
            "Requirement already satisfied: wasabi<1.1.0,>=0.8.1 in /usr/local/lib/python3.7/dist-packages (from spacy<3.3.0,>=3.2.0->pl-core-news-sm==3.2.0) (0.9.0)\n",
            "Requirement already satisfied: setuptools in /usr/local/lib/python3.7/dist-packages (from spacy<3.3.0,>=3.2.0->pl-core-news-sm==3.2.0) (57.4.0)\n",
            "Requirement already satisfied: requests<3.0.0,>=2.13.0 in /usr/local/lib/python3.7/dist-packages (from spacy<3.3.0,>=3.2.0->pl-core-news-sm==3.2.0) (2.23.0)\n",
            "Requirement already satisfied: pydantic!=1.8,!=1.8.1,<1.9.0,>=1.7.4 in /usr/local/lib/python3.7/dist-packages (from spacy<3.3.0,>=3.2.0->pl-core-news-sm==3.2.0) (1.8.2)\n",
            "Requirement already satisfied: spacy-legacy<3.1.0,>=3.0.8 in /usr/local/lib/python3.7/dist-packages (from spacy<3.3.0,>=3.2.0->pl-core-news-sm==3.2.0) (3.0.8)\n",
            "Requirement already satisfied: langcodes<4.0.0,>=3.2.0 in /usr/local/lib/python3.7/dist-packages (from spacy<3.3.0,>=3.2.0->pl-core-news-sm==3.2.0) (3.3.0)\n",
            "Requirement already satisfied: typer<0.5.0,>=0.3.0 in /usr/local/lib/python3.7/dist-packages (from spacy<3.3.0,>=3.2.0->pl-core-news-sm==3.2.0) (0.4.0)\n",
            "Requirement already satisfied: preshed<3.1.0,>=3.0.2 in /usr/local/lib/python3.7/dist-packages (from spacy<3.3.0,>=3.2.0->pl-core-news-sm==3.2.0) (3.0.6)\n",
            "Requirement already satisfied: cymem<2.1.0,>=2.0.2 in /usr/local/lib/python3.7/dist-packages (from spacy<3.3.0,>=3.2.0->pl-core-news-sm==3.2.0) (2.0.6)\n",
            "Requirement already satisfied: tqdm<5.0.0,>=4.38.0 in /usr/local/lib/python3.7/dist-packages (from spacy<3.3.0,>=3.2.0->pl-core-news-sm==3.2.0) (4.62.3)\n",
            "Requirement already satisfied: packaging>=20.0 in /usr/local/lib/python3.7/dist-packages (from spacy<3.3.0,>=3.2.0->pl-core-news-sm==3.2.0) (21.3)\n",
            "Requirement already satisfied: spacy-loggers<2.0.0,>=1.0.0 in /usr/local/lib/python3.7/dist-packages (from spacy<3.3.0,>=3.2.0->pl-core-news-sm==3.2.0) (1.0.1)\n",
            "Requirement already satisfied: pathy>=0.3.5 in /usr/local/lib/python3.7/dist-packages (from spacy<3.3.0,>=3.2.0->pl-core-news-sm==3.2.0) (0.6.1)\n",
            "Requirement already satisfied: thinc<8.1.0,>=8.0.12 in /usr/local/lib/python3.7/dist-packages (from spacy<3.3.0,>=3.2.0->pl-core-news-sm==3.2.0) (8.0.13)\n",
            "Requirement already satisfied: typing-extensions<4.0.0.0,>=3.7.4 in /usr/local/lib/python3.7/dist-packages (from spacy<3.3.0,>=3.2.0->pl-core-news-sm==3.2.0) (3.10.0.2)\n",
            "Requirement already satisfied: blis<0.8.0,>=0.4.0 in /usr/local/lib/python3.7/dist-packages (from spacy<3.3.0,>=3.2.0->pl-core-news-sm==3.2.0) (0.4.1)\n",
            "Requirement already satisfied: murmurhash<1.1.0,>=0.28.0 in /usr/local/lib/python3.7/dist-packages (from spacy<3.3.0,>=3.2.0->pl-core-news-sm==3.2.0) (1.0.6)\n",
            "Requirement already satisfied: jinja2 in /usr/local/lib/python3.7/dist-packages (from spacy<3.3.0,>=3.2.0->pl-core-news-sm==3.2.0) (2.11.3)\n",
            "Requirement already satisfied: numpy>=1.15.0 in /usr/local/lib/python3.7/dist-packages (from spacy<3.3.0,>=3.2.0->pl-core-news-sm==3.2.0) (1.19.5)\n",
            "Requirement already satisfied: catalogue<2.1.0,>=2.0.6 in /usr/local/lib/python3.7/dist-packages (from spacy<3.3.0,>=3.2.0->pl-core-news-sm==3.2.0) (2.0.6)\n",
            "Requirement already satisfied: srsly<3.0.0,>=2.4.1 in /usr/local/lib/python3.7/dist-packages (from spacy<3.3.0,>=3.2.0->pl-core-news-sm==3.2.0) (2.4.2)\n",
            "Requirement already satisfied: zipp>=0.5 in /usr/local/lib/python3.7/dist-packages (from catalogue<2.1.0,>=2.0.6->spacy<3.3.0,>=3.2.0->pl-core-news-sm==3.2.0) (3.7.0)\n",
            "Requirement already satisfied: pyparsing!=3.0.5,>=2.0.2 in /usr/local/lib/python3.7/dist-packages (from packaging>=20.0->spacy<3.3.0,>=3.2.0->pl-core-news-sm==3.2.0) (3.0.7)\n",
            "Requirement already satisfied: smart-open<6.0.0,>=5.0.0 in /usr/local/lib/python3.7/dist-packages (from pathy>=0.3.5->spacy<3.3.0,>=3.2.0->pl-core-news-sm==3.2.0) (5.2.1)\n",
            "Requirement already satisfied: certifi>=2017.4.17 in /usr/local/lib/python3.7/dist-packages (from requests<3.0.0,>=2.13.0->spacy<3.3.0,>=3.2.0->pl-core-news-sm==3.2.0) (2021.10.8)\n",
            "Requirement already satisfied: chardet<4,>=3.0.2 in /usr/local/lib/python3.7/dist-packages (from requests<3.0.0,>=2.13.0->spacy<3.3.0,>=3.2.0->pl-core-news-sm==3.2.0) (3.0.4)\n",
            "Requirement already satisfied: idna<3,>=2.5 in /usr/local/lib/python3.7/dist-packages (from requests<3.0.0,>=2.13.0->spacy<3.3.0,>=3.2.0->pl-core-news-sm==3.2.0) (2.10)\n",
            "Requirement already satisfied: urllib3!=1.25.0,!=1.25.1,<1.26,>=1.21.1 in /usr/local/lib/python3.7/dist-packages (from requests<3.0.0,>=2.13.0->spacy<3.3.0,>=3.2.0->pl-core-news-sm==3.2.0) (1.24.3)\n",
            "Requirement already satisfied: click<9.0.0,>=7.1.1 in /usr/local/lib/python3.7/dist-packages (from typer<0.5.0,>=0.3.0->spacy<3.3.0,>=3.2.0->pl-core-news-sm==3.2.0) (7.1.2)\n",
            "Requirement already satisfied: MarkupSafe>=0.23 in /usr/local/lib/python3.7/dist-packages (from jinja2->spacy<3.3.0,>=3.2.0->pl-core-news-sm==3.2.0) (2.0.1)\n",
            "Installing collected packages: pl-core-news-sm\n",
            "Successfully installed pl-core-news-sm-3.2.0\n",
            "\u001b[38;5;2m✔ Download and installation successful\u001b[0m\n",
            "You can now load the package via spacy.load('pl_core_news_sm')\n"
          ]
        }
      ]
    },
    {
      "cell_type": "code",
      "source": [
        "import spacy\n",
        "nlp = spacy.load(\"pl_core_news_sm\")"
      ],
      "metadata": {
        "id": "Kz_bODMVXuz-"
      },
      "execution_count": 1,
      "outputs": []
    },
    {
      "cell_type": "code",
      "source": [
        "# SOURCE: https://www.geeksforgeeks.org/python-program-to-convert-a-list-to-string/ ; method 2\n",
        "\n",
        "def listToString(s): \n",
        "    # initialize an empty string\n",
        "    str1 = \" \" \n",
        "    # return string  \n",
        "    return (str1.join(s))"
      ],
      "metadata": {
        "id": "02xRb5pTs56D"
      },
      "execution_count": 2,
      "outputs": []
    },
    {
      "cell_type": "code",
      "source": [
        "# zadanie 1.6\n",
        "\n",
        "df[\"text_without_stopwords\"] =  \"\"\n",
        "doc = nlp(df[\"text\"][0])\n",
        "nowa_lista = []\n",
        "\n",
        "x = 0\n",
        "while x < 320:\n",
        "  doc = nlp(df[\"text\"][x])\n",
        "  for token in doc:\n",
        "    if token.is_stop == False:\n",
        "      nowa_lista.append(token.text)\n",
        "      # print(x, token.text)\n",
        "  \n",
        "  df[\"text_without_stopwords\"][x] = nowa_lista\n",
        "  s = df[\"text_without_stopwords\"][x]\n",
        "  df[\"text_without_stopwords\"][x] = listToString(s)\n",
        "  nowa_lista = []\n",
        "  x = x + 1\n",
        "\n",
        "df[\"text_without_stopwords\"]"
      ],
      "metadata": {
        "id": "mO9YubnBsMHV"
      },
      "execution_count": null,
      "outputs": []
    },
    {
      "cell_type": "code",
      "source": [
        "df[\"retweet_count\"].describe()"
      ],
      "metadata": {
        "id": "uDJYMUQreRSX"
      },
      "execution_count": null,
      "outputs": []
    },
    {
      "cell_type": "code",
      "source": [
        "#zadanie 2.1\n",
        "df = df.sort_values(\"favorite_count\", ascending = False)\n",
        "pd.set_option(\"display.max_colwidth\", -1) #pozwala wyświetlić całą zawartość komórki\n",
        "df[[\"favorite_count\", \"text\"]][0:5]"
      ],
      "metadata": {
        "id": "tAwACqQje7xE"
      },
      "execution_count": null,
      "outputs": []
    },
    {
      "cell_type": "code",
      "source": [
        "#zadanie 2.2\n",
        "\n",
        "df = df.sort_values(\"retweet_count\", ascending = False)\n",
        "# pd.set_option(\"display.max_colwidth\", -1) #pozwala wyświetlić całą zawartość komórki\n",
        "df[[\"retweet_count\", \"text\"]][0:5]"
      ],
      "metadata": {
        "id": "rk_MXVKZk06j"
      },
      "execution_count": null,
      "outputs": []
    },
    {
      "cell_type": "code",
      "source": [
        "#zadanie 2.3\n",
        "\n",
        "pd.set_option(\"display.max_rows\", None, \"display.max_colwidth\", -1) # żeby wyświetlić, wszystkie tweety, nie tylko z początku i końca\n",
        "df.loc[df[\"possibly_sensitive\"] != True, \"text\"] "
      ],
      "metadata": {
        "id": "RsdxifqxlhSv"
      },
      "execution_count": null,
      "outputs": []
    },
    {
      "cell_type": "code",
      "source": [
        "#zadanie 2.4\n",
        "\n",
        "df[\"user_created_at\"] = pd.to_datetime(df[\"user_created_at\"]) #konwersja rekordów w kolumnie na datę\n",
        "df = df.sort_values(by=\"user_created_at\") #sortowanko wg daty\n",
        "first_user_id = df[\"user_id\"][0:1]\n",
        "first_user_id = int(first_user_id) #konwertuję dataSeries do int\n",
        "# print(first_user_id)\n",
        "df.loc[df[\"user_id\"] == first_user_id, \"text\"]\n"
      ],
      "metadata": {
        "id": "QBx0A52QaMcN"
      },
      "execution_count": null,
      "outputs": []
    },
    {
      "cell_type": "code",
      "source": [
        "#zadanie 2.5\n",
        "\n",
        "df = df.sort_values(\"user_followers_count\", ascending = False)\n",
        "most_followed_user_id = df[\"user_id\"][0:1]\n",
        "most_followed_user_id = int(most_followed_user_id)\n",
        "df.loc[df[\"user_id\"] == most_followed_user_id, \"text\"]"
      ],
      "metadata": {
        "id": "z8yVHUCfy6Py"
      },
      "execution_count": null,
      "outputs": []
    },
    {
      "cell_type": "code",
      "source": [
        "#zadanie 2.6.\n",
        "pd.set_option(\"display.max_rows\", None, \"display.max_colwidth\", -1) # żeby wyświetlić wszystkie rekordy w kolumnie\n",
        "df.loc[df[\"user_verified\"] == True, \"user_name\"]"
      ],
      "metadata": {
        "id": "yjfskvS90wJ3"
      },
      "execution_count": null,
      "outputs": []
    },
    {
      "cell_type": "code",
      "source": [
        "#zadanie 2.7\n",
        "pd.set_option(\"display.max_rows\", 10)\n",
        "df[\"day\"] = df[\"created_at\"].str.extract(r'(Mon|Tue|Wed|Thu|Fri|Sat|Sun|Poniedziałek|Wtorek|Środa|Czwartek|Piątek|Sobota|Niedziela)')\n",
        "#powyższy regex zawiera polskie i angielskie nazwy, aby działał również bez zamiany nazw z ang na pl\n",
        "max_freq_day = df[\"day\"].describe()\n",
        "# print(max_freq_day)\n",
        "print(\"Dzień z największą liczbą tweetów to \", max_freq_day[2], \"Liczba tweetów to\", max_freq_day[0])\n"
      ],
      "metadata": {
        "id": "wz97hqYI1VdS"
      },
      "execution_count": null,
      "outputs": []
    },
    {
      "cell_type": "code",
      "source": [
        "# pd.set_option(\"display.max_rows\",None)\n",
        "pd.set_option(\"display.max_rows\", None, \"display.max_colwidth\", 100)"
      ],
      "metadata": {
        "id": "pHYGh25KRAY_"
      },
      "execution_count": 23,
      "outputs": []
    },
    {
      "cell_type": "code",
      "source": [
        "pd.set_option(\"display.max_rows\", None, \"display.max_colwidth\", -1)"
      ],
      "metadata": {
        "id": "CxEr7jgPDcch"
      },
      "execution_count": null,
      "outputs": []
    },
    {
      "cell_type": "code",
      "source": [
        "# zadanie 3.1.\n",
        "x=0\n",
        "df = pd.read_csv(\"/content/covid-tt2.csv\")\n",
        "df[\"persons\"] = \"--\"\n",
        "# type(doc)\n",
        "\n",
        "while x < 320:\n",
        "  doc = nlp(df[\"text\"][x])\n",
        "  for ent in doc.ents:\n",
        "    if ent.label_ == \"persName\":\n",
        "      # print(x, ent.text)\n",
        "      df[\"persons\"][x] = ent.text\n",
        "  x = x + 1\n",
        "\n",
        "df.loc[df[\"persons\"] != \"--\", \"persons\"]\n",
        "# df[[\"text\", \"persons\"]]\n"
      ],
      "metadata": {
        "id": "eUFPoa-vCf_O"
      },
      "execution_count": null,
      "outputs": []
    },
    {
      "cell_type": "code",
      "source": [
        "#zadanie 3.2\n",
        "df[\"places\"] = \"--\"\n",
        "x = 0\n",
        "nowa_lista2 = []\n",
        "\n",
        "while x < 320:\n",
        "  doc = nlp(df[\"text\"][x])\n",
        "  for ent in doc.ents:\n",
        "    if ent.label_ == \"placeName\":\n",
        "      nowa_lista2.append(ent.text)   \n",
        "      # df[\"places\"][x] = ent.text\n",
        "  df[\"places\"][x] = nowa_lista2\n",
        "  s = df[\"places\"][x]\n",
        "  df[\"places\"][x] = listToString(s)\n",
        "  nowa_lista2 = []\n",
        "  x = x + 1\n",
        "\n",
        "df[[\"text\", \"places\"]]\n",
        "# df.loc[df[\"places\"] != \"\", \"places\"] "
      ],
      "metadata": {
        "id": "iaAlGMHVHWB4"
      },
      "execution_count": null,
      "outputs": []
    },
    {
      "cell_type": "code",
      "source": [
        "#zadanie 3.3\n",
        "df[\"organisations\"] = \"--\"\n",
        "x = 0\n",
        "nowa_lista3 = []\n",
        "\n",
        "while x < 320:\n",
        "  doc = nlp(df[\"text\"][x])\n",
        "  for ent in doc.ents:\n",
        "    if ent.label_ == \"orgName\":\n",
        "      nowa_lista3.append(ent.text)\n",
        "  \n",
        "  df[\"organisations\"][x] = nowa_lista3\n",
        "  s = df[\"organisations\"][x]\n",
        "  df[\"organisations\"][x] = listToString(s)\n",
        "  nowa_lista3 = []\n",
        "  x = x + 1\n",
        "\n",
        "# df[[\"text\", \"organisations\"]]\n",
        "df.loc[df[\"organisations\"] != \"\", \"organisations\"] "
      ],
      "metadata": {
        "id": "50VbGZzYKyow"
      },
      "execution_count": null,
      "outputs": []
    },
    {
      "cell_type": "code",
      "source": [
        "# zadanie 3.4.\n",
        "# Kolumna \"hashtags\" istnieje już w datasecie i zawiera tekst hasztagów,\n",
        "# dlatego tworzę nową kolumnę \"hasztagi\"\n",
        "\n",
        "df[\"hasztagi\"] = df[\"text\"].str.findall(r'(#\\w*[A-Za-z_]+\\w*)')\n",
        "\n",
        "x = 0\n",
        "while x < 320:\n",
        "  s = df[\"hasztagi\"][x]\n",
        "  df[\"hasztagi\"][x] = listToString(s)\n",
        "  df[\"hasztagi\"][x] = df[\"hasztagi\"][x].replace(\"#\", \"\")\n",
        "  x = x + 1\n",
        "\n",
        "df[\"hasztagi\"]\n"
      ],
      "metadata": {
        "id": "4TnjmmTCIonD"
      },
      "execution_count": null,
      "outputs": []
    },
    {
      "cell_type": "code",
      "source": [
        "#zadanie 4\n",
        "\n",
        "from matplotlib import pyplot as plt\n",
        "df = pd.read_csv(\"/content/covid-tt2.csv\")\n",
        "df[\"day\"] = df[\"created_at\"].str.extract(r'(Mon|Tue|Wed|Thu|Fri|Sat|Sun)')\n",
        "\n",
        "plt.xlabel(\"dzień\")\n",
        "plt.ylabel(\"liczba\")\n",
        "plt.title(\"Liczba tweetów per dzień\")\n",
        "plt.hist(df[\"day\"], color = \"green\")\n",
        "\n",
        "# W datasecie, na którym pracuję, jest tylko jeden dzień publikacji, \n",
        "# ale działanie metody widać na np. innej kolumnie:\n",
        "# df[\"user_verified\"]\n",
        "# plt.hist(df[\"user_listed_count\"], color = \"navy\")\n",
        "\n"
      ],
      "metadata": {
        "id": "6Ih51tNN2e2j"
      },
      "execution_count": null,
      "outputs": []
    }
  ]
}